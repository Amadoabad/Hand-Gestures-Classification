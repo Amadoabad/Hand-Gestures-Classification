{
 "cells": [
  {
   "cell_type": "markdown",
   "metadata": {},
   "source": [
    "# Hand Gestures Classification"
   ]
  },
  {
   "cell_type": "code",
   "execution_count": 5,
   "metadata": {},
   "outputs": [],
   "source": [
    "# Importing libraries\n",
    "import numpy as np\n",
    "import pandas as pd\n",
    "import matplotlib as plt\n",
    "import seaborn as sns\n",
    "\n"
   ]
  },
  {
   "cell_type": "markdown",
   "metadata": {},
   "source": [
    "## Data Loading"
   ]
  },
  {
   "cell_type": "code",
   "execution_count": 4,
   "metadata": {},
   "outputs": [
    {
     "data": {
      "text/html": [
       "<div>\n",
       "<style scoped>\n",
       "    .dataframe tbody tr th:only-of-type {\n",
       "        vertical-align: middle;\n",
       "    }\n",
       "\n",
       "    .dataframe tbody tr th {\n",
       "        vertical-align: top;\n",
       "    }\n",
       "\n",
       "    .dataframe thead th {\n",
       "        text-align: right;\n",
       "    }\n",
       "</style>\n",
       "<table border=\"1\" class=\"dataframe\">\n",
       "  <thead>\n",
       "    <tr style=\"text-align: right;\">\n",
       "      <th></th>\n",
       "      <th>x1</th>\n",
       "      <th>y1</th>\n",
       "      <th>z1</th>\n",
       "      <th>x2</th>\n",
       "      <th>y2</th>\n",
       "      <th>z2</th>\n",
       "      <th>x3</th>\n",
       "      <th>y3</th>\n",
       "      <th>z3</th>\n",
       "      <th>x4</th>\n",
       "      <th>...</th>\n",
       "      <th>x19</th>\n",
       "      <th>y19</th>\n",
       "      <th>z19</th>\n",
       "      <th>x20</th>\n",
       "      <th>y20</th>\n",
       "      <th>z20</th>\n",
       "      <th>x21</th>\n",
       "      <th>y21</th>\n",
       "      <th>z21</th>\n",
       "      <th>label</th>\n",
       "    </tr>\n",
       "  </thead>\n",
       "  <tbody>\n",
       "    <tr>\n",
       "      <th>0</th>\n",
       "      <td>262.669968</td>\n",
       "      <td>257.304901</td>\n",
       "      <td>-3.649205e-07</td>\n",
       "      <td>257.417542</td>\n",
       "      <td>247.109055</td>\n",
       "      <td>0.004224</td>\n",
       "      <td>246.882957</td>\n",
       "      <td>241.716827</td>\n",
       "      <td>0.005798</td>\n",
       "      <td>236.384537</td>\n",
       "      <td>...</td>\n",
       "      <td>223.345093</td>\n",
       "      <td>255.490692</td>\n",
       "      <td>-0.020450</td>\n",
       "      <td>215.043365</td>\n",
       "      <td>258.114746</td>\n",
       "      <td>-0.024577</td>\n",
       "      <td>208.006393</td>\n",
       "      <td>259.608673</td>\n",
       "      <td>-0.026722</td>\n",
       "      <td>call</td>\n",
       "    </tr>\n",
       "    <tr>\n",
       "      <th>1</th>\n",
       "      <td>83.351778</td>\n",
       "      <td>346.059113</td>\n",
       "      <td>-2.345265e-07</td>\n",
       "      <td>81.925037</td>\n",
       "      <td>328.562347</td>\n",
       "      <td>-0.011102</td>\n",
       "      <td>90.080132</td>\n",
       "      <td>311.535248</td>\n",
       "      <td>-0.021096</td>\n",
       "      <td>95.641823</td>\n",
       "      <td>...</td>\n",
       "      <td>132.451618</td>\n",
       "      <td>341.794434</td>\n",
       "      <td>-0.038175</td>\n",
       "      <td>142.773582</td>\n",
       "      <td>342.829254</td>\n",
       "      <td>-0.037336</td>\n",
       "      <td>152.431698</td>\n",
       "      <td>343.015991</td>\n",
       "      <td>-0.036136</td>\n",
       "      <td>call</td>\n",
       "    </tr>\n",
       "    <tr>\n",
       "      <th>2</th>\n",
       "      <td>187.756977</td>\n",
       "      <td>260.235492</td>\n",
       "      <td>-2.417307e-07</td>\n",
       "      <td>195.460579</td>\n",
       "      <td>241.506035</td>\n",
       "      <td>-0.000184</td>\n",
       "      <td>207.259529</td>\n",
       "      <td>223.674339</td>\n",
       "      <td>-0.009687</td>\n",
       "      <td>215.413628</td>\n",
       "      <td>...</td>\n",
       "      <td>250.301010</td>\n",
       "      <td>268.602938</td>\n",
       "      <td>-0.044068</td>\n",
       "      <td>262.425133</td>\n",
       "      <td>271.276638</td>\n",
       "      <td>-0.040469</td>\n",
       "      <td>272.989952</td>\n",
       "      <td>272.272231</td>\n",
       "      <td>-0.038301</td>\n",
       "      <td>call</td>\n",
       "    </tr>\n",
       "    <tr>\n",
       "      <th>3</th>\n",
       "      <td>114.976696</td>\n",
       "      <td>331.594238</td>\n",
       "      <td>-1.233261e-07</td>\n",
       "      <td>114.503494</td>\n",
       "      <td>320.549957</td>\n",
       "      <td>-0.002824</td>\n",
       "      <td>116.636627</td>\n",
       "      <td>310.080994</td>\n",
       "      <td>-0.008911</td>\n",
       "      <td>117.685066</td>\n",
       "      <td>...</td>\n",
       "      <td>145.195450</td>\n",
       "      <td>329.357544</td>\n",
       "      <td>-0.027622</td>\n",
       "      <td>151.053200</td>\n",
       "      <td>329.712341</td>\n",
       "      <td>-0.027863</td>\n",
       "      <td>155.990364</td>\n",
       "      <td>329.548828</td>\n",
       "      <td>-0.027723</td>\n",
       "      <td>call</td>\n",
       "    </tr>\n",
       "    <tr>\n",
       "      <th>4</th>\n",
       "      <td>188.795288</td>\n",
       "      <td>141.727867</td>\n",
       "      <td>-1.622995e-07</td>\n",
       "      <td>188.520905</td>\n",
       "      <td>127.947464</td>\n",
       "      <td>-0.002884</td>\n",
       "      <td>191.982880</td>\n",
       "      <td>111.010563</td>\n",
       "      <td>-0.008115</td>\n",
       "      <td>192.552521</td>\n",
       "      <td>...</td>\n",
       "      <td>226.696396</td>\n",
       "      <td>132.263248</td>\n",
       "      <td>-0.025113</td>\n",
       "      <td>234.831741</td>\n",
       "      <td>130.684147</td>\n",
       "      <td>-0.024087</td>\n",
       "      <td>241.587769</td>\n",
       "      <td>128.477188</td>\n",
       "      <td>-0.023486</td>\n",
       "      <td>call</td>\n",
       "    </tr>\n",
       "  </tbody>\n",
       "</table>\n",
       "<p>5 rows × 64 columns</p>\n",
       "</div>"
      ],
      "text/plain": [
       "           x1          y1            z1          x2          y2        z2  \\\n",
       "0  262.669968  257.304901 -3.649205e-07  257.417542  247.109055  0.004224   \n",
       "1   83.351778  346.059113 -2.345265e-07   81.925037  328.562347 -0.011102   \n",
       "2  187.756977  260.235492 -2.417307e-07  195.460579  241.506035 -0.000184   \n",
       "3  114.976696  331.594238 -1.233261e-07  114.503494  320.549957 -0.002824   \n",
       "4  188.795288  141.727867 -1.622995e-07  188.520905  127.947464 -0.002884   \n",
       "\n",
       "           x3          y3        z3          x4  ...         x19         y19  \\\n",
       "0  246.882957  241.716827  0.005798  236.384537  ...  223.345093  255.490692   \n",
       "1   90.080132  311.535248 -0.021096   95.641823  ...  132.451618  341.794434   \n",
       "2  207.259529  223.674339 -0.009687  215.413628  ...  250.301010  268.602938   \n",
       "3  116.636627  310.080994 -0.008911  117.685066  ...  145.195450  329.357544   \n",
       "4  191.982880  111.010563 -0.008115  192.552521  ...  226.696396  132.263248   \n",
       "\n",
       "        z19         x20         y20       z20         x21         y21  \\\n",
       "0 -0.020450  215.043365  258.114746 -0.024577  208.006393  259.608673   \n",
       "1 -0.038175  142.773582  342.829254 -0.037336  152.431698  343.015991   \n",
       "2 -0.044068  262.425133  271.276638 -0.040469  272.989952  272.272231   \n",
       "3 -0.027622  151.053200  329.712341 -0.027863  155.990364  329.548828   \n",
       "4 -0.025113  234.831741  130.684147 -0.024087  241.587769  128.477188   \n",
       "\n",
       "        z21  label  \n",
       "0 -0.026722   call  \n",
       "1 -0.036136   call  \n",
       "2 -0.038301   call  \n",
       "3 -0.027723   call  \n",
       "4 -0.023486   call  \n",
       "\n",
       "[5 rows x 64 columns]"
      ]
     },
     "execution_count": 4,
     "metadata": {},
     "output_type": "execute_result"
    }
   ],
   "source": [
    "df = pd.read_csv(r'Data/hand_landmarks_data.csv')\n",
    "df.head()"
   ]
  },
  {
   "cell_type": "markdown",
   "metadata": {},
   "source": [
    "## Data Visualization"
   ]
  },
  {
   "cell_type": "code",
   "execution_count": null,
   "metadata": {},
   "outputs": [],
   "source": [
    "sns.pairplot(df)"
   ]
  },
  {
   "cell_type": "markdown",
   "metadata": {},
   "source": [
    "## Data Preprocessing"
   ]
  },
  {
   "cell_type": "markdown",
   "metadata": {},
   "source": [
    "## Model Training"
   ]
  },
  {
   "cell_type": "markdown",
   "metadata": {},
   "source": [
    "## Evaluation"
   ]
  },
  {
   "cell_type": "markdown",
   "metadata": {},
   "source": [
    "## Conclusion"
   ]
  },
  {
   "cell_type": "markdown",
   "metadata": {},
   "source": []
  }
 ],
 "metadata": {
  "kernelspec": {
   "display_name": "hand_gest",
   "language": "python",
   "name": "python3"
  },
  "language_info": {
   "codemirror_mode": {
    "name": "ipython",
    "version": 3
   },
   "file_extension": ".py",
   "mimetype": "text/x-python",
   "name": "python",
   "nbconvert_exporter": "python",
   "pygments_lexer": "ipython3",
   "version": "3.13.2"
  }
 },
 "nbformat": 4,
 "nbformat_minor": 2
}
